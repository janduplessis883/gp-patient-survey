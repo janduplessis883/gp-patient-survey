{
 "cells": [
  {
   "cell_type": "code",
   "execution_count": 12,
   "id": "2f1c7304-c9d7-4e3d-8920-564ca57d2cf7",
   "metadata": {},
   "outputs": [],
   "source": [
    "surgery_data = [\n",
    "    {\"surgery\": \"Earls Court Medical Centre\", \"list_size\": 6817, \"prev_survey\": 103},\n",
    "    {\"surgery\": \"Earls Court Surgery\", \"list_size\": 4129, \"prev_survey\": 113},\n",
    "    {\"surgery\": \"Emperor's Gate Health Centre\", \"list_size\": 6909, \"prev_survey\": 103},\n",
    "    {\n",
    "        \"surgery\": \"Health Partners at Violet Melchett\",\n",
    "        \"list_size\": 8000,\n",
    "        \"prev_survey\": 103,\n",
    "    },\n",
    "    {\"surgery\": \"Knightsbridge Medical Centre\", \"list_size\": 17495, \"prev_survey\": 127},\n",
    "    {\"surgery\": \"Royal Hospital Chelsea\", \"list_size\": 250, \"prev_survey\": 110},\n",
    "    {\"surgery\": \"Stanhope Mews Surgery\", \"list_size\": 16277, \"prev_survey\": 194},\n",
    "    {\"surgery\": \"The Abingdon Medical Practice\", \"list_size\": 8855, \"prev_survey\": 113},\n",
    "    {\"surgery\": \"The Chelsea Practice\", \"list_size\": 6270, \"prev_survey\": 122},\n",
    "    {\"surgery\": \"The Good Practice\", \"list_size\": 8029, \"prev_survey\": 105},\n",
    "    {\"surgery\": \"Scarsdale Medical Centre\", \"list_size\": 8980, \"prev_survey\": 101},\n",
    "]"
   ]
  },
  {
   "cell_type": "code",
   "execution_count": 13,
   "id": "88b730b2-4c8d-4e0b-9cca-029a2ecf1ec0",
   "metadata": {},
   "outputs": [
    {
     "data": {
      "text/html": [
       "<div>\n",
       "<style scoped>\n",
       "    .dataframe tbody tr th:only-of-type {\n",
       "        vertical-align: middle;\n",
       "    }\n",
       "\n",
       "    .dataframe tbody tr th {\n",
       "        vertical-align: top;\n",
       "    }\n",
       "\n",
       "    .dataframe thead th {\n",
       "        text-align: right;\n",
       "    }\n",
       "</style>\n",
       "<table border=\"1\" class=\"dataframe\">\n",
       "  <thead>\n",
       "    <tr style=\"text-align: right;\">\n",
       "      <th></th>\n",
       "      <th>surgery</th>\n",
       "      <th>list_size</th>\n",
       "      <th>prev_survey</th>\n",
       "    </tr>\n",
       "  </thead>\n",
       "  <tbody>\n",
       "    <tr>\n",
       "      <th>0</th>\n",
       "      <td>Earls Court Medical Centre</td>\n",
       "      <td>6817</td>\n",
       "      <td>103</td>\n",
       "    </tr>\n",
       "    <tr>\n",
       "      <th>1</th>\n",
       "      <td>Earls Court Surgery</td>\n",
       "      <td>4129</td>\n",
       "      <td>113</td>\n",
       "    </tr>\n",
       "    <tr>\n",
       "      <th>2</th>\n",
       "      <td>Emperor's Gate Health Centre</td>\n",
       "      <td>6909</td>\n",
       "      <td>103</td>\n",
       "    </tr>\n",
       "    <tr>\n",
       "      <th>3</th>\n",
       "      <td>Health Partners at Violet Melchett</td>\n",
       "      <td>8000</td>\n",
       "      <td>103</td>\n",
       "    </tr>\n",
       "    <tr>\n",
       "      <th>4</th>\n",
       "      <td>Knightsbridge Medical Centre</td>\n",
       "      <td>17495</td>\n",
       "      <td>127</td>\n",
       "    </tr>\n",
       "    <tr>\n",
       "      <th>5</th>\n",
       "      <td>Royal Hospital Chelsea</td>\n",
       "      <td>250</td>\n",
       "      <td>110</td>\n",
       "    </tr>\n",
       "    <tr>\n",
       "      <th>6</th>\n",
       "      <td>Stanhope Mews Surgery</td>\n",
       "      <td>16277</td>\n",
       "      <td>194</td>\n",
       "    </tr>\n",
       "    <tr>\n",
       "      <th>7</th>\n",
       "      <td>The Abingdon Medical Practice</td>\n",
       "      <td>8855</td>\n",
       "      <td>113</td>\n",
       "    </tr>\n",
       "    <tr>\n",
       "      <th>8</th>\n",
       "      <td>The Chelsea Practice</td>\n",
       "      <td>6270</td>\n",
       "      <td>122</td>\n",
       "    </tr>\n",
       "    <tr>\n",
       "      <th>9</th>\n",
       "      <td>The Good Practice</td>\n",
       "      <td>8029</td>\n",
       "      <td>105</td>\n",
       "    </tr>\n",
       "    <tr>\n",
       "      <th>10</th>\n",
       "      <td>Scarsdale Medical Centre</td>\n",
       "      <td>8980</td>\n",
       "      <td>101</td>\n",
       "    </tr>\n",
       "  </tbody>\n",
       "</table>\n",
       "</div>"
      ],
      "text/plain": [
       "                               surgery  list_size  prev_survey\n",
       "0           Earls Court Medical Centre       6817          103\n",
       "1                  Earls Court Surgery       4129          113\n",
       "2         Emperor's Gate Health Centre       6909          103\n",
       "3   Health Partners at Violet Melchett       8000          103\n",
       "4         Knightsbridge Medical Centre      17495          127\n",
       "5               Royal Hospital Chelsea        250          110\n",
       "6                Stanhope Mews Surgery      16277          194\n",
       "7        The Abingdon Medical Practice       8855          113\n",
       "8                 The Chelsea Practice       6270          122\n",
       "9                    The Good Practice       8029          105\n",
       "10            Scarsdale Medical Centre       8980          101"
      ]
     },
     "execution_count": 13,
     "metadata": {},
     "output_type": "execute_result"
    }
   ],
   "source": [
    "import pandas as pd\n",
    "\n",
    "# Convert the list of dictionaries into a DataFrame\n",
    "df = pd.DataFrame(surgery_data)\n",
    "\n",
    "# Display the DataFrame\n",
    "df"
   ]
  },
  {
   "cell_type": "code",
   "execution_count": 8,
   "id": "b6cb1c04-90b6-4b0a-9b1e-69866d9bf3cb",
   "metadata": {},
   "outputs": [
    {
     "name": "stdout",
     "output_type": "stream",
     "text": [
      "Current working directory: /Users/janduplessis/code/janduplessis883/gp-patient-survey/notebooks\n"
     ]
    }
   ],
   "source": [
    "import os\n",
    "\n",
    "# Get the current working directory\n",
    "current_directory = os.getcwd()\n",
    "\n",
    "# Print the current working directory\n",
    "print(\"Current working directory:\", current_directory)\n"
   ]
  },
  {
   "cell_type": "code",
   "execution_count": 11,
   "id": "4fe44534-65e4-4c76-ae71-7de4b89b6d55",
   "metadata": {},
   "outputs": [
    {
     "name": "stdout",
     "output_type": "stream",
     "text": [
      "4129\n",
      "113\n"
     ]
    }
   ],
   "source": [
    "# Retrieve the 'list_size' for 'Earls Court Surgery'\n",
    "list_size = df.loc[df['surgery'] == 'Earls Court Surgery', 'list_size'].values[0]\n",
    "prev_survey = df.loc[df['surgery'] == 'Earls Court Surgery', 'prev_survey'].values[0]\n",
    "print(list_size)\n",
    "print(prev_survey)"
   ]
  },
  {
   "cell_type": "code",
   "execution_count": null,
   "id": "bdda92f4-9768-4c03-84c0-27346dae4697",
   "metadata": {},
   "outputs": [],
   "source": []
  },
  {
   "cell_type": "code",
   "execution_count": null,
   "id": "c5c2451e-f453-4c90-8bc4-cd024ba99bb5",
   "metadata": {},
   "outputs": [],
   "source": []
  },
  {
   "cell_type": "code",
   "execution_count": null,
   "id": "4d7e66f7-0815-4296-a641-5fd84585e418",
   "metadata": {},
   "outputs": [],
   "source": []
  },
  {
   "cell_type": "code",
   "execution_count": null,
   "id": "81d25fec-89ab-4f0f-ba69-ef48898ae4a1",
   "metadata": {},
   "outputs": [],
   "source": []
  },
  {
   "cell_type": "code",
   "execution_count": null,
   "id": "58b3f47e-02d6-41fe-8214-81ea1b2de60e",
   "metadata": {},
   "outputs": [],
   "source": []
  },
  {
   "cell_type": "code",
   "execution_count": null,
   "id": "54e35393-3494-4575-8a52-33f2bb9d8aba",
   "metadata": {},
   "outputs": [],
   "source": []
  },
  {
   "cell_type": "code",
   "execution_count": null,
   "id": "a1f079e5-dc36-46b7-b320-1b9db0a35975",
   "metadata": {},
   "outputs": [],
   "source": []
  }
 ],
 "metadata": {
  "kernelspec": {
   "display_name": "Python 3 (ipykernel)",
   "language": "python",
   "name": "python3"
  },
  "language_info": {
   "codemirror_mode": {
    "name": "ipython",
    "version": 3
   },
   "file_extension": ".py",
   "mimetype": "text/x-python",
   "name": "python",
   "nbconvert_exporter": "python",
   "pygments_lexer": "ipython3",
   "version": "3.10.6"
  }
 },
 "nbformat": 4,
 "nbformat_minor": 5
}
