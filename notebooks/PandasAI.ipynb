{
 "cells": [
  {
   "cell_type": "code",
   "execution_count": 1,
   "id": "e8eb3d26-77ff-47f7-8ff7-56a150dc2186",
   "metadata": {},
   "outputs": [
    {
     "name": "stdout",
     "output_type": "stream",
     "text": [
      "Collecting pandasai\n",
      "  Using cached pandasai-1.5.19-py3-none-any.whl.metadata (10 kB)\n",
      "Collecting astor<0.9.0,>=0.8.1 (from pandasai)\n",
      "  Using cached astor-0.8.1-py2.py3-none-any.whl (27 kB)\n",
      "Collecting duckdb<0.10.0,>=0.9.2 (from pandasai)\n",
      "  Using cached duckdb-0.9.2-cp310-cp310-macosx_11_0_arm64.whl.metadata (760 bytes)\n",
      "Collecting faker<20.0.0,>=19.12.0 (from pandasai)\n",
      "  Using cached Faker-19.13.0-py3-none-any.whl.metadata (15 kB)\n",
      "Requirement already satisfied: ipython<9.0.0,>=8.13.1 in /Users/janduplessis/.pyenv/versions/3.10.6/envs/survey/lib/python3.10/site-packages (from pandasai) (8.21.0)\n",
      "Requirement already satisfied: matplotlib<4.0.0,>=3.7.1 in /Users/janduplessis/.pyenv/versions/3.10.6/envs/survey/lib/python3.10/site-packages (from pandasai) (3.8.3)\n",
      "Requirement already satisfied: openai<2 in /Users/janduplessis/.pyenv/versions/3.10.6/envs/survey/lib/python3.10/site-packages (from pandasai) (1.12.0)\n",
      "Collecting pandas==1.5.3 (from pandasai)\n",
      "  Using cached pandas-1.5.3-cp310-cp310-macosx_11_0_arm64.whl.metadata (11 kB)\n",
      "Requirement already satisfied: pillow<11.0.0,>=10.1.0 in /Users/janduplessis/.pyenv/versions/3.10.6/envs/survey/lib/python3.10/site-packages (from pandasai) (10.2.0)\n",
      "Collecting pydantic<2,>=1 (from pandasai)\n",
      "  Downloading pydantic-1.10.14-cp310-cp310-macosx_11_0_arm64.whl.metadata (150 kB)\n",
      "\u001b[2K     \u001b[38;2;114;156;31m━━━━━━━━━━━━━━━━━━━━━━━━━━━━━━━━━━━━━━━\u001b[0m \u001b[32m150.2/150.2 kB\u001b[0m \u001b[31m1.1 MB/s\u001b[0m eta \u001b[36m0:00:00\u001b[0m MB/s\u001b[0m eta \u001b[36m0:00:01\u001b[0m\n",
      "\u001b[?25hRequirement already satisfied: python-dotenv<2.0.0,>=1.0.0 in /Users/janduplessis/.pyenv/versions/3.10.6/envs/survey/lib/python3.10/site-packages (from pandasai) (1.0.1)\n",
      "Requirement already satisfied: requests<3.0.0,>=2.31.0 in /Users/janduplessis/.pyenv/versions/3.10.6/envs/survey/lib/python3.10/site-packages (from pandasai) (2.31.0)\n",
      "Requirement already satisfied: scipy<2.0.0,>=1.9.0 in /Users/janduplessis/.pyenv/versions/3.10.6/envs/survey/lib/python3.10/site-packages (from pandasai) (1.12.0)\n",
      "Collecting sqlalchemy<3,>=1.4 (from pandasai)\n",
      "  Downloading SQLAlchemy-2.0.27-cp310-cp310-macosx_11_0_arm64.whl.metadata (9.6 kB)\n",
      "Requirement already satisfied: python-dateutil>=2.8.1 in /Users/janduplessis/.pyenv/versions/3.10.6/envs/survey/lib/python3.10/site-packages (from pandas==1.5.3->pandasai) (2.8.2)\n",
      "Requirement already satisfied: pytz>=2020.1 in /Users/janduplessis/.pyenv/versions/3.10.6/envs/survey/lib/python3.10/site-packages (from pandas==1.5.3->pandasai) (2024.1)\n",
      "Requirement already satisfied: numpy>=1.21.0 in /Users/janduplessis/.pyenv/versions/3.10.6/envs/survey/lib/python3.10/site-packages (from pandas==1.5.3->pandasai) (1.26.4)\n",
      "Requirement already satisfied: decorator in /Users/janduplessis/.pyenv/versions/3.10.6/envs/survey/lib/python3.10/site-packages (from ipython<9.0.0,>=8.13.1->pandasai) (5.1.1)\n",
      "Requirement already satisfied: jedi>=0.16 in /Users/janduplessis/.pyenv/versions/3.10.6/envs/survey/lib/python3.10/site-packages (from ipython<9.0.0,>=8.13.1->pandasai) (0.19.1)\n",
      "Requirement already satisfied: matplotlib-inline in /Users/janduplessis/.pyenv/versions/3.10.6/envs/survey/lib/python3.10/site-packages (from ipython<9.0.0,>=8.13.1->pandasai) (0.1.6)\n",
      "Requirement already satisfied: prompt-toolkit<3.1.0,>=3.0.41 in /Users/janduplessis/.pyenv/versions/3.10.6/envs/survey/lib/python3.10/site-packages (from ipython<9.0.0,>=8.13.1->pandasai) (3.0.43)\n",
      "Requirement already satisfied: pygments>=2.4.0 in /Users/janduplessis/.pyenv/versions/3.10.6/envs/survey/lib/python3.10/site-packages (from ipython<9.0.0,>=8.13.1->pandasai) (2.17.2)\n",
      "Requirement already satisfied: stack-data in /Users/janduplessis/.pyenv/versions/3.10.6/envs/survey/lib/python3.10/site-packages (from ipython<9.0.0,>=8.13.1->pandasai) (0.6.3)\n",
      "Requirement already satisfied: traitlets>=5 in /Users/janduplessis/.pyenv/versions/3.10.6/envs/survey/lib/python3.10/site-packages (from ipython<9.0.0,>=8.13.1->pandasai) (5.9.0)\n",
      "Requirement already satisfied: exceptiongroup in /Users/janduplessis/.pyenv/versions/3.10.6/envs/survey/lib/python3.10/site-packages (from ipython<9.0.0,>=8.13.1->pandasai) (1.2.0)\n",
      "Requirement already satisfied: pexpect>4.3 in /Users/janduplessis/.pyenv/versions/3.10.6/envs/survey/lib/python3.10/site-packages (from ipython<9.0.0,>=8.13.1->pandasai) (4.9.0)\n",
      "Requirement already satisfied: contourpy>=1.0.1 in /Users/janduplessis/.pyenv/versions/3.10.6/envs/survey/lib/python3.10/site-packages (from matplotlib<4.0.0,>=3.7.1->pandasai) (1.2.0)\n",
      "Requirement already satisfied: cycler>=0.10 in /Users/janduplessis/.pyenv/versions/3.10.6/envs/survey/lib/python3.10/site-packages (from matplotlib<4.0.0,>=3.7.1->pandasai) (0.12.1)\n",
      "Requirement already satisfied: fonttools>=4.22.0 in /Users/janduplessis/.pyenv/versions/3.10.6/envs/survey/lib/python3.10/site-packages (from matplotlib<4.0.0,>=3.7.1->pandasai) (4.49.0)\n",
      "Requirement already satisfied: kiwisolver>=1.3.1 in /Users/janduplessis/.pyenv/versions/3.10.6/envs/survey/lib/python3.10/site-packages (from matplotlib<4.0.0,>=3.7.1->pandasai) (1.4.5)\n",
      "Requirement already satisfied: packaging>=20.0 in /Users/janduplessis/.pyenv/versions/3.10.6/envs/survey/lib/python3.10/site-packages (from matplotlib<4.0.0,>=3.7.1->pandasai) (23.2)\n",
      "Requirement already satisfied: pyparsing>=2.3.1 in /Users/janduplessis/.pyenv/versions/3.10.6/envs/survey/lib/python3.10/site-packages (from matplotlib<4.0.0,>=3.7.1->pandasai) (3.1.1)\n",
      "Requirement already satisfied: anyio<5,>=3.5.0 in /Users/janduplessis/.pyenv/versions/3.10.6/envs/survey/lib/python3.10/site-packages (from openai<2->pandasai) (4.3.0)\n",
      "Requirement already satisfied: distro<2,>=1.7.0 in /Users/janduplessis/.pyenv/versions/3.10.6/envs/survey/lib/python3.10/site-packages (from openai<2->pandasai) (1.9.0)\n",
      "Requirement already satisfied: httpx<1,>=0.23.0 in /Users/janduplessis/.pyenv/versions/3.10.6/envs/survey/lib/python3.10/site-packages (from openai<2->pandasai) (0.25.2)\n",
      "Requirement already satisfied: sniffio in /Users/janduplessis/.pyenv/versions/3.10.6/envs/survey/lib/python3.10/site-packages (from openai<2->pandasai) (1.3.0)\n",
      "Requirement already satisfied: tqdm>4 in /Users/janduplessis/.pyenv/versions/3.10.6/envs/survey/lib/python3.10/site-packages (from openai<2->pandasai) (4.66.2)\n",
      "Requirement already satisfied: typing-extensions<5,>=4.7 in /Users/janduplessis/.pyenv/versions/3.10.6/envs/survey/lib/python3.10/site-packages (from openai<2->pandasai) (4.9.0)\n",
      "Requirement already satisfied: charset-normalizer<4,>=2 in /Users/janduplessis/.pyenv/versions/3.10.6/envs/survey/lib/python3.10/site-packages (from requests<3.0.0,>=2.31.0->pandasai) (3.3.2)\n",
      "Requirement already satisfied: idna<4,>=2.5 in /Users/janduplessis/.pyenv/versions/3.10.6/envs/survey/lib/python3.10/site-packages (from requests<3.0.0,>=2.31.0->pandasai) (3.6)\n",
      "Requirement already satisfied: urllib3<3,>=1.21.1 in /Users/janduplessis/.pyenv/versions/3.10.6/envs/survey/lib/python3.10/site-packages (from requests<3.0.0,>=2.31.0->pandasai) (2.2.1)\n",
      "Requirement already satisfied: certifi>=2017.4.17 in /Users/janduplessis/.pyenv/versions/3.10.6/envs/survey/lib/python3.10/site-packages (from requests<3.0.0,>=2.31.0->pandasai) (2024.2.2)\n",
      "Requirement already satisfied: httpcore==1.* in /Users/janduplessis/.pyenv/versions/3.10.6/envs/survey/lib/python3.10/site-packages (from httpx<1,>=0.23.0->openai<2->pandasai) (1.0.4)\n",
      "Requirement already satisfied: h11<0.15,>=0.13 in /Users/janduplessis/.pyenv/versions/3.10.6/envs/survey/lib/python3.10/site-packages (from httpcore==1.*->httpx<1,>=0.23.0->openai<2->pandasai) (0.14.0)\n",
      "Requirement already satisfied: parso<0.9.0,>=0.8.3 in /Users/janduplessis/.pyenv/versions/3.10.6/envs/survey/lib/python3.10/site-packages (from jedi>=0.16->ipython<9.0.0,>=8.13.1->pandasai) (0.8.3)\n",
      "Requirement already satisfied: ptyprocess>=0.5 in /Users/janduplessis/.pyenv/versions/3.10.6/envs/survey/lib/python3.10/site-packages (from pexpect>4.3->ipython<9.0.0,>=8.13.1->pandasai) (0.7.0)\n",
      "Requirement already satisfied: wcwidth in /Users/janduplessis/.pyenv/versions/3.10.6/envs/survey/lib/python3.10/site-packages (from prompt-toolkit<3.1.0,>=3.0.41->ipython<9.0.0,>=8.13.1->pandasai) (0.2.13)\n",
      "Requirement already satisfied: six>=1.5 in /Users/janduplessis/.pyenv/versions/3.10.6/envs/survey/lib/python3.10/site-packages (from python-dateutil>=2.8.1->pandas==1.5.3->pandasai) (1.16.0)\n",
      "Requirement already satisfied: executing>=1.2.0 in /Users/janduplessis/.pyenv/versions/3.10.6/envs/survey/lib/python3.10/site-packages (from stack-data->ipython<9.0.0,>=8.13.1->pandasai) (2.0.1)\n",
      "Requirement already satisfied: asttokens>=2.1.0 in /Users/janduplessis/.pyenv/versions/3.10.6/envs/survey/lib/python3.10/site-packages (from stack-data->ipython<9.0.0,>=8.13.1->pandasai) (2.4.1)\n",
      "Requirement already satisfied: pure-eval in /Users/janduplessis/.pyenv/versions/3.10.6/envs/survey/lib/python3.10/site-packages (from stack-data->ipython<9.0.0,>=8.13.1->pandasai) (0.2.2)\n",
      "Using cached pandasai-1.5.19-py3-none-any.whl (183 kB)\n",
      "Using cached pandas-1.5.3-cp310-cp310-macosx_11_0_arm64.whl (10.9 MB)\n",
      "Using cached duckdb-0.9.2-cp310-cp310-macosx_11_0_arm64.whl (13.2 MB)\n",
      "Using cached Faker-19.13.0-py3-none-any.whl (1.7 MB)\n",
      "Downloading pydantic-1.10.14-cp310-cp310-macosx_11_0_arm64.whl (2.6 MB)\n",
      "\u001b[2K   \u001b[38;2;114;156;31m━━━━━━━━━━━━━━━━━━━━━━━━━━━━━━━━━━━━━━━━\u001b[0m \u001b[32m2.6/2.6 MB\u001b[0m \u001b[31m1.2 MB/s\u001b[0m eta \u001b[36m0:00:00\u001b[0mm eta \u001b[36m0:00:01\u001b[0m[36m0:00:01\u001b[0m0m\n",
      "\u001b[?25hDownloading SQLAlchemy-2.0.27-cp310-cp310-macosx_11_0_arm64.whl (2.1 MB)\n",
      "\u001b[2K   \u001b[38;2;114;156;31m━━━━━━━━━━━━━━━━━━━━━━━━━━━━━━━━━━━━━━━━\u001b[0m \u001b[32m2.1/2.1 MB\u001b[0m \u001b[31m2.0 MB/s\u001b[0m eta \u001b[36m0:00:00\u001b[0mm eta \u001b[36m0:00:01\u001b[0m[36m0:00:01\u001b[0m\n",
      "\u001b[?25hInstalling collected packages: sqlalchemy, pydantic, duckdb, astor, pandas, faker, pandasai\n",
      "  Attempting uninstall: pydantic\n",
      "    Found existing installation: pydantic 2.6.1\n",
      "    Uninstalling pydantic-2.6.1:\n",
      "      Successfully uninstalled pydantic-2.6.1\n",
      "  Attempting uninstall: pandas\n",
      "    Found existing installation: pandas 2.2.0\n",
      "    Uninstalling pandas-2.2.0:\n",
      "      Successfully uninstalled pandas-2.2.0\n",
      "  Attempting uninstall: faker\n",
      "    Found existing installation: Faker 23.2.1\n",
      "    Uninstalling Faker-23.2.1:\n",
      "      Successfully uninstalled Faker-23.2.1\n",
      "\u001b[31mERROR: pip's dependency resolver does not currently take into account all the packages that are installed. This behaviour is the source of the following dependency conflicts.\n",
      "skimpy 0.0.14 requires pandas<3.0.0,>=2.0.3, but you have pandas 1.5.3 which is incompatible.\u001b[0m\u001b[31m\n",
      "\u001b[0mSuccessfully installed astor-0.8.1 duckdb-0.9.2 faker-19.13.0 pandas-1.5.3 pandasai-1.5.19 pydantic-1.10.14 sqlalchemy-2.0.27\n"
     ]
    }
   ],
   "source": [
    "!pip install pandasai\n"
   ]
  },
  {
   "cell_type": "code",
   "execution_count": 3,
   "id": "6faa2ff9-7b66-4322-a602-d17ab6535c93",
   "metadata": {},
   "outputs": [
    {
     "ename": "ImportError",
     "evalue": "cannot import name 'PandasAI' from 'pandasai' (/Users/janduplessis/.pyenv/versions/3.10.6/envs/survey/lib/python3.10/site-packages/pandasai/__init__.py)",
     "output_type": "error",
     "traceback": [
      "\u001b[0;31m---------------------------------------------------------------------------\u001b[0m",
      "\u001b[0;31mImportError\u001b[0m                               Traceback (most recent call last)",
      "Cell \u001b[0;32mIn[3], line 1\u001b[0m\n\u001b[0;32m----> 1\u001b[0m \u001b[38;5;28;01mfrom\u001b[39;00m \u001b[38;5;21;01mpandasai\u001b[39;00m \u001b[38;5;28;01mimport\u001b[39;00m PandasAI\n\u001b[1;32m      2\u001b[0m \u001b[38;5;28;01mimport\u001b[39;00m \u001b[38;5;21;01mpandas\u001b[39;00m \u001b[38;5;28;01mas\u001b[39;00m \u001b[38;5;21;01mpd\u001b[39;00m\n\u001b[1;32m      3\u001b[0m \u001b[38;5;28;01mfrom\u001b[39;00m \u001b[38;5;21;01mpandasai\u001b[39;00m\u001b[38;5;21;01m.\u001b[39;00m\u001b[38;5;21;01mllm\u001b[39;00m\u001b[38;5;21;01m.\u001b[39;00m\u001b[38;5;21;01mopenai\u001b[39;00m \u001b[38;5;28;01mimport\u001b[39;00m OpenAI\n",
      "\u001b[0;31mImportError\u001b[0m: cannot import name 'PandasAI' from 'pandasai' (/Users/janduplessis/.pyenv/versions/3.10.6/envs/survey/lib/python3.10/site-packages/pandasai/__init__.py)"
     ]
    }
   ],
   "source": [
    "from pandasai import PandasAI\n",
    "import pandas as pd\n",
    "from pandasai.llm.openai import OpenAI"
   ]
  },
  {
   "cell_type": "code",
   "execution_count": 4,
   "id": "cc8d75f9-2822-4686-a3f1-97dde4f5b3a4",
   "metadata": {},
   "outputs": [
    {
     "name": "stdout",
     "output_type": "stream",
     "text": [
      "Collecting sketch\n",
      "  Downloading sketch-0.5.2-py3-none-any.whl.metadata (6.0 kB)\n",
      "Requirement already satisfied: pandas>=1.3.0 in /Users/janduplessis/.pyenv/versions/3.10.6/envs/survey/lib/python3.10/site-packages (from sketch) (1.5.3)\n",
      "Collecting datasketch>=1.5.8 (from sketch)\n",
      "  Downloading datasketch-1.6.4-py3-none-any.whl.metadata (5.8 kB)\n",
      "Collecting datasketches>=4.0.0 (from sketch)\n",
      "  Downloading datasketches-5.0.1-cp310-cp310-macosx_11_0_arm64.whl.metadata (5.6 kB)\n",
      "Requirement already satisfied: ipython in /Users/janduplessis/.pyenv/versions/3.10.6/envs/survey/lib/python3.10/site-packages (from sketch) (8.21.0)\n",
      "Collecting lambdaprompt>=0.6.1 (from sketch)\n",
      "  Downloading lambdaprompt-0.6.1-py3-none-any.whl.metadata (6.6 kB)\n",
      "Requirement already satisfied: packaging in /Users/janduplessis/.pyenv/versions/3.10.6/envs/survey/lib/python3.10/site-packages (from sketch) (23.2)\n",
      "Requirement already satisfied: numpy>=1.11 in /Users/janduplessis/.pyenv/versions/3.10.6/envs/survey/lib/python3.10/site-packages (from datasketch>=1.5.8->sketch) (1.26.4)\n",
      "Requirement already satisfied: scipy>=1.0.0 in /Users/janduplessis/.pyenv/versions/3.10.6/envs/survey/lib/python3.10/site-packages (from datasketch>=1.5.8->sketch) (1.12.0)\n",
      "Requirement already satisfied: requests in /Users/janduplessis/.pyenv/versions/3.10.6/envs/survey/lib/python3.10/site-packages (from lambdaprompt>=0.6.1->sketch) (2.31.0)\n",
      "Requirement already satisfied: aiohttp in /Users/janduplessis/.pyenv/versions/3.10.6/envs/survey/lib/python3.10/site-packages (from lambdaprompt>=0.6.1->sketch) (3.9.3)\n",
      "Requirement already satisfied: python-dotenv in /Users/janduplessis/.pyenv/versions/3.10.6/envs/survey/lib/python3.10/site-packages (from lambdaprompt>=0.6.1->sketch) (1.0.1)\n",
      "Requirement already satisfied: jinja2 in /Users/janduplessis/.pyenv/versions/3.10.6/envs/survey/lib/python3.10/site-packages (from lambdaprompt>=0.6.1->sketch) (3.1.3)\n",
      "Requirement already satisfied: nest-asyncio in /Users/janduplessis/.pyenv/versions/3.10.6/envs/survey/lib/python3.10/site-packages (from lambdaprompt>=0.6.1->sketch) (1.6.0)\n",
      "Requirement already satisfied: pyyaml in /Users/janduplessis/.pyenv/versions/3.10.6/envs/survey/lib/python3.10/site-packages (from lambdaprompt>=0.6.1->sketch) (6.0.1)\n",
      "Requirement already satisfied: tenacity in /Users/janduplessis/.pyenv/versions/3.10.6/envs/survey/lib/python3.10/site-packages (from lambdaprompt>=0.6.1->sketch) (8.2.3)\n",
      "Requirement already satisfied: pydantic in /Users/janduplessis/.pyenv/versions/3.10.6/envs/survey/lib/python3.10/site-packages (from lambdaprompt>=0.6.1->sketch) (1.10.14)\n",
      "Collecting pydantic-settings (from lambdaprompt>=0.6.1->sketch)\n",
      "  Downloading pydantic_settings-2.2.1-py3-none-any.whl.metadata (3.1 kB)\n",
      "Requirement already satisfied: python-dateutil>=2.8.1 in /Users/janduplessis/.pyenv/versions/3.10.6/envs/survey/lib/python3.10/site-packages (from pandas>=1.3.0->sketch) (2.8.2)\n",
      "Requirement already satisfied: pytz>=2020.1 in /Users/janduplessis/.pyenv/versions/3.10.6/envs/survey/lib/python3.10/site-packages (from pandas>=1.3.0->sketch) (2024.1)\n",
      "Requirement already satisfied: decorator in /Users/janduplessis/.pyenv/versions/3.10.6/envs/survey/lib/python3.10/site-packages (from ipython->sketch) (5.1.1)\n",
      "Requirement already satisfied: jedi>=0.16 in /Users/janduplessis/.pyenv/versions/3.10.6/envs/survey/lib/python3.10/site-packages (from ipython->sketch) (0.19.1)\n",
      "Requirement already satisfied: matplotlib-inline in /Users/janduplessis/.pyenv/versions/3.10.6/envs/survey/lib/python3.10/site-packages (from ipython->sketch) (0.1.6)\n",
      "Requirement already satisfied: prompt-toolkit<3.1.0,>=3.0.41 in /Users/janduplessis/.pyenv/versions/3.10.6/envs/survey/lib/python3.10/site-packages (from ipython->sketch) (3.0.43)\n",
      "Requirement already satisfied: pygments>=2.4.0 in /Users/janduplessis/.pyenv/versions/3.10.6/envs/survey/lib/python3.10/site-packages (from ipython->sketch) (2.17.2)\n",
      "Requirement already satisfied: stack-data in /Users/janduplessis/.pyenv/versions/3.10.6/envs/survey/lib/python3.10/site-packages (from ipython->sketch) (0.6.3)\n",
      "Requirement already satisfied: traitlets>=5 in /Users/janduplessis/.pyenv/versions/3.10.6/envs/survey/lib/python3.10/site-packages (from ipython->sketch) (5.9.0)\n",
      "Requirement already satisfied: exceptiongroup in /Users/janduplessis/.pyenv/versions/3.10.6/envs/survey/lib/python3.10/site-packages (from ipython->sketch) (1.2.0)\n",
      "Requirement already satisfied: pexpect>4.3 in /Users/janduplessis/.pyenv/versions/3.10.6/envs/survey/lib/python3.10/site-packages (from ipython->sketch) (4.9.0)\n",
      "Requirement already satisfied: parso<0.9.0,>=0.8.3 in /Users/janduplessis/.pyenv/versions/3.10.6/envs/survey/lib/python3.10/site-packages (from jedi>=0.16->ipython->sketch) (0.8.3)\n",
      "Requirement already satisfied: ptyprocess>=0.5 in /Users/janduplessis/.pyenv/versions/3.10.6/envs/survey/lib/python3.10/site-packages (from pexpect>4.3->ipython->sketch) (0.7.0)\n",
      "Requirement already satisfied: wcwidth in /Users/janduplessis/.pyenv/versions/3.10.6/envs/survey/lib/python3.10/site-packages (from prompt-toolkit<3.1.0,>=3.0.41->ipython->sketch) (0.2.13)\n",
      "Requirement already satisfied: six>=1.5 in /Users/janduplessis/.pyenv/versions/3.10.6/envs/survey/lib/python3.10/site-packages (from python-dateutil>=2.8.1->pandas>=1.3.0->sketch) (1.16.0)\n",
      "Requirement already satisfied: aiosignal>=1.1.2 in /Users/janduplessis/.pyenv/versions/3.10.6/envs/survey/lib/python3.10/site-packages (from aiohttp->lambdaprompt>=0.6.1->sketch) (1.3.1)\n",
      "Requirement already satisfied: attrs>=17.3.0 in /Users/janduplessis/.pyenv/versions/3.10.6/envs/survey/lib/python3.10/site-packages (from aiohttp->lambdaprompt>=0.6.1->sketch) (23.2.0)\n",
      "Requirement already satisfied: frozenlist>=1.1.1 in /Users/janduplessis/.pyenv/versions/3.10.6/envs/survey/lib/python3.10/site-packages (from aiohttp->lambdaprompt>=0.6.1->sketch) (1.4.1)\n",
      "Requirement already satisfied: multidict<7.0,>=4.5 in /Users/janduplessis/.pyenv/versions/3.10.6/envs/survey/lib/python3.10/site-packages (from aiohttp->lambdaprompt>=0.6.1->sketch) (6.0.5)\n",
      "Requirement already satisfied: yarl<2.0,>=1.0 in /Users/janduplessis/.pyenv/versions/3.10.6/envs/survey/lib/python3.10/site-packages (from aiohttp->lambdaprompt>=0.6.1->sketch) (1.9.4)\n",
      "Requirement already satisfied: async-timeout<5.0,>=4.0 in /Users/janduplessis/.pyenv/versions/3.10.6/envs/survey/lib/python3.10/site-packages (from aiohttp->lambdaprompt>=0.6.1->sketch) (4.0.3)\n",
      "Requirement already satisfied: MarkupSafe>=2.0 in /Users/janduplessis/.pyenv/versions/3.10.6/envs/survey/lib/python3.10/site-packages (from jinja2->lambdaprompt>=0.6.1->sketch) (2.1.5)\n",
      "Requirement already satisfied: typing-extensions>=4.2.0 in /Users/janduplessis/.pyenv/versions/3.10.6/envs/survey/lib/python3.10/site-packages (from pydantic->lambdaprompt>=0.6.1->sketch) (4.9.0)\n",
      "Collecting pydantic (from lambdaprompt>=0.6.1->sketch)\n",
      "  Downloading pydantic-2.6.2-py3-none-any.whl.metadata (83 kB)\n",
      "\u001b[2K     \u001b[38;2;114;156;31m━━━━━━━━━━━━━━━━━━━━━━━━━━━━━━━━━━━━━━━\u001b[0m \u001b[32m84.0/84.0 kB\u001b[0m \u001b[31m632.6 kB/s\u001b[0m eta \u001b[36m0:00:00\u001b[0m1m587.3 kB/s\u001b[0m eta \u001b[36m0:00:01\u001b[0m\n",
      "\u001b[?25hRequirement already satisfied: annotated-types>=0.4.0 in /Users/janduplessis/.pyenv/versions/3.10.6/envs/survey/lib/python3.10/site-packages (from pydantic->lambdaprompt>=0.6.1->sketch) (0.6.0)\n",
      "Collecting pydantic-core==2.16.3 (from pydantic->lambdaprompt>=0.6.1->sketch)\n",
      "  Downloading pydantic_core-2.16.3-cp310-cp310-macosx_11_0_arm64.whl.metadata (6.5 kB)\n",
      "Requirement already satisfied: charset-normalizer<4,>=2 in /Users/janduplessis/.pyenv/versions/3.10.6/envs/survey/lib/python3.10/site-packages (from requests->lambdaprompt>=0.6.1->sketch) (3.3.2)\n",
      "Requirement already satisfied: idna<4,>=2.5 in /Users/janduplessis/.pyenv/versions/3.10.6/envs/survey/lib/python3.10/site-packages (from requests->lambdaprompt>=0.6.1->sketch) (3.6)\n",
      "Requirement already satisfied: urllib3<3,>=1.21.1 in /Users/janduplessis/.pyenv/versions/3.10.6/envs/survey/lib/python3.10/site-packages (from requests->lambdaprompt>=0.6.1->sketch) (2.2.1)\n",
      "Requirement already satisfied: certifi>=2017.4.17 in /Users/janduplessis/.pyenv/versions/3.10.6/envs/survey/lib/python3.10/site-packages (from requests->lambdaprompt>=0.6.1->sketch) (2024.2.2)\n",
      "Requirement already satisfied: executing>=1.2.0 in /Users/janduplessis/.pyenv/versions/3.10.6/envs/survey/lib/python3.10/site-packages (from stack-data->ipython->sketch) (2.0.1)\n",
      "Requirement already satisfied: asttokens>=2.1.0 in /Users/janduplessis/.pyenv/versions/3.10.6/envs/survey/lib/python3.10/site-packages (from stack-data->ipython->sketch) (2.4.1)\n",
      "Requirement already satisfied: pure-eval in /Users/janduplessis/.pyenv/versions/3.10.6/envs/survey/lib/python3.10/site-packages (from stack-data->ipython->sketch) (0.2.2)\n",
      "Downloading sketch-0.5.2-py3-none-any.whl (16 kB)\n",
      "Downloading datasketch-1.6.4-py3-none-any.whl (88 kB)\n",
      "\u001b[2K   \u001b[38;2;114;156;31m━━━━━━━━━━━━━━━━━━━━━━━━━━━━━━━━━━━━━━━━\u001b[0m \u001b[32m88.3/88.3 kB\u001b[0m \u001b[31m1.3 MB/s\u001b[0m eta \u001b[36m0:00:00\u001b[0m MB/s\u001b[0m eta \u001b[36m0:00:01\u001b[0m:01\u001b[0m\n",
      "\u001b[?25hDownloading datasketches-5.0.1-cp310-cp310-macosx_11_0_arm64.whl (548 kB)\n",
      "\u001b[2K   \u001b[38;2;114;156;31m━━━━━━━━━━━━━━━━━━━━━━━━━━━━━━━━━━━━━━━━\u001b[0m \u001b[32m548.9/548.9 kB\u001b[0m \u001b[31m3.3 MB/s\u001b[0m eta \u001b[36m0:00:00\u001b[0mm eta \u001b[36m0:00:01\u001b[0m0:01\u001b[0m\n",
      "\u001b[?25hDownloading lambdaprompt-0.6.1-py3-none-any.whl (14 kB)\n",
      "Downloading pydantic_settings-2.2.1-py3-none-any.whl (13 kB)\n",
      "Downloading pydantic-2.6.2-py3-none-any.whl (394 kB)\n",
      "\u001b[2K   \u001b[38;2;114;156;31m━━━━━━━━━━━━━━━━━━━━━━━━━━━━━━━━━━━━━━━━\u001b[0m \u001b[32m394.9/394.9 kB\u001b[0m \u001b[31m2.5 MB/s\u001b[0m eta \u001b[36m0:00:00\u001b[0m MB/s\u001b[0m eta \u001b[36m0:00:01\u001b[0m:01\u001b[0m\n",
      "\u001b[?25hDownloading pydantic_core-2.16.3-cp310-cp310-macosx_11_0_arm64.whl (1.7 MB)\n",
      "\u001b[2K   \u001b[38;2;114;156;31m━━━━━━━━━━━━━━━━━━━━━━━━━━━━━━━━━━━━━━━━\u001b[0m \u001b[32m1.7/1.7 MB\u001b[0m \u001b[31m1.7 MB/s\u001b[0m eta \u001b[36m0:00:00\u001b[0m[36m0:00:01\u001b[0mm eta \u001b[36m0:00:01\u001b[0m\n",
      "\u001b[?25hInstalling collected packages: pydantic-core, datasketches, pydantic, datasketch, pydantic-settings, lambdaprompt, sketch\n",
      "  Attempting uninstall: pydantic-core\n",
      "    Found existing installation: pydantic_core 2.16.2\n",
      "    Uninstalling pydantic_core-2.16.2:\n",
      "      Successfully uninstalled pydantic_core-2.16.2\n",
      "  Attempting uninstall: pydantic\n",
      "    Found existing installation: pydantic 1.10.14\n",
      "    Uninstalling pydantic-1.10.14:\n",
      "      Successfully uninstalled pydantic-1.10.14\n",
      "\u001b[31mERROR: pip's dependency resolver does not currently take into account all the packages that are installed. This behaviour is the source of the following dependency conflicts.\n",
      "pandasai 1.5.19 requires pydantic<2,>=1, but you have pydantic 2.6.2 which is incompatible.\n",
      "skimpy 0.0.14 requires pandas<3.0.0,>=2.0.3, but you have pandas 1.5.3 which is incompatible.\u001b[0m\u001b[31m\n",
      "\u001b[0mSuccessfully installed datasketch-1.6.4 datasketches-5.0.1 lambdaprompt-0.6.1 pydantic-2.6.2 pydantic-core-2.16.3 pydantic-settings-2.2.1 sketch-0.5.2\n"
     ]
    }
   ],
   "source": [
    "!pip install sketch"
   ]
  },
  {
   "cell_type": "code",
   "execution_count": 7,
   "id": "f41c793b-c7ed-4401-95ee-dd28dc0568f0",
   "metadata": {},
   "outputs": [],
   "source": [
    "import pandas as pd\n",
    "import sketch"
   ]
  },
  {
   "cell_type": "code",
   "execution_count": 16,
   "id": "c9f01ae2-7d01-479b-9139-f197418fdc95",
   "metadata": {},
   "outputs": [],
   "source": [
    "data = pd.read_csv(\"/Users/janduplessis/code/janduplessis883/friends-and-family-test-analysis/friendsfamilytest/data/data.csv\")"
   ]
  },
  {
   "cell_type": "code",
   "execution_count": 17,
   "id": "625cc343-bb29-4a61-8f55-9fa7508496b6",
   "metadata": {},
   "outputs": [
    {
     "data": {
      "text/html": [
       "<div>\n",
       "<style scoped>\n",
       "    .dataframe tbody tr th:only-of-type {\n",
       "        vertical-align: middle;\n",
       "    }\n",
       "\n",
       "    .dataframe tbody tr th {\n",
       "        vertical-align: top;\n",
       "    }\n",
       "\n",
       "    .dataframe thead th {\n",
       "        text-align: right;\n",
       "    }\n",
       "</style>\n",
       "<table border=\"1\" class=\"dataframe\">\n",
       "  <thead>\n",
       "    <tr style=\"text-align: right;\">\n",
       "      <th></th>\n",
       "      <th>time</th>\n",
       "      <th>rating</th>\n",
       "      <th>free_text</th>\n",
       "      <th>do_better</th>\n",
       "      <th>surgery</th>\n",
       "      <th>free_text_len</th>\n",
       "      <th>do_better_len</th>\n",
       "      <th>rating_score</th>\n",
       "      <th>classif</th>\n",
       "      <th>classif_scores</th>\n",
       "      <th>sentiment</th>\n",
       "      <th>sentiment_score</th>\n",
       "      <th>improvement_labels</th>\n",
       "      <th>polarity</th>\n",
       "      <th>subjectivity</th>\n",
       "      <th>neg</th>\n",
       "      <th>neu</th>\n",
       "      <th>pos</th>\n",
       "      <th>compound</th>\n",
       "      <th>feedback_labels</th>\n",
       "    </tr>\n",
       "  </thead>\n",
       "  <tbody>\n",
       "    <tr>\n",
       "      <th>0</th>\n",
       "      <td>2023-07-13 15:28:22</td>\n",
       "      <td>Extremely likely</td>\n",
       "      <td>Very friendly caring staff, treated me with re...</td>\n",
       "      <td>Keep it up</td>\n",
       "      <td>Earls Court Surgery</td>\n",
       "      <td>13</td>\n",
       "      <td>3</td>\n",
       "      <td>5.0</td>\n",
       "      <td>NaN</td>\n",
       "      <td>NaN</td>\n",
       "      <td>positive</td>\n",
       "      <td>0</td>\n",
       "      <td>Follow-Up and Continuity of Care</td>\n",
       "      <td>0.4875</td>\n",
       "      <td>0.65</td>\n",
       "      <td>0.124</td>\n",
       "      <td>0.413</td>\n",
       "      <td>0.463</td>\n",
       "      <td>0.8111</td>\n",
       "      <td>Overall Patient Satisfaction</td>\n",
       "    </tr>\n",
       "    <tr>\n",
       "      <th>1</th>\n",
       "      <td>2023-07-13 15:29:16</td>\n",
       "      <td>Extremely likely</td>\n",
       "      <td>so good so confidential</td>\n",
       "      <td>NaN</td>\n",
       "      <td>Earls Court Surgery</td>\n",
       "      <td>4</td>\n",
       "      <td>0</td>\n",
       "      <td>5.0</td>\n",
       "      <td>NaN</td>\n",
       "      <td>NaN</td>\n",
       "      <td>positive</td>\n",
       "      <td>0</td>\n",
       "      <td>NaN</td>\n",
       "      <td>0.7000</td>\n",
       "      <td>0.60</td>\n",
       "      <td>0.000</td>\n",
       "      <td>0.484</td>\n",
       "      <td>0.516</td>\n",
       "      <td>0.4927</td>\n",
       "      <td>Patient Privacy and Confidentiality</td>\n",
       "    </tr>\n",
       "  </tbody>\n",
       "</table>\n",
       "</div>"
      ],
      "text/plain": [
       "                  time            rating  \\\n",
       "0  2023-07-13 15:28:22  Extremely likely   \n",
       "1  2023-07-13 15:29:16  Extremely likely   \n",
       "\n",
       "                                           free_text   do_better  \\\n",
       "0  Very friendly caring staff, treated me with re...  Keep it up   \n",
       "1                            so good so confidential         NaN   \n",
       "\n",
       "               surgery  free_text_len  do_better_len  rating_score  classif  \\\n",
       "0  Earls Court Surgery             13              3           5.0      NaN   \n",
       "1  Earls Court Surgery              4              0           5.0      NaN   \n",
       "\n",
       "   classif_scores sentiment  sentiment_score  \\\n",
       "0             NaN  positive                0   \n",
       "1             NaN  positive                0   \n",
       "\n",
       "                 improvement_labels  polarity  subjectivity    neg    neu  \\\n",
       "0  Follow-Up and Continuity of Care    0.4875          0.65  0.124  0.413   \n",
       "1                               NaN    0.7000          0.60  0.000  0.484   \n",
       "\n",
       "     pos  compound                      feedback_labels  \n",
       "0  0.463    0.8111         Overall Patient Satisfaction  \n",
       "1  0.516    0.4927  Patient Privacy and Confidentiality  "
      ]
     },
     "execution_count": 17,
     "metadata": {},
     "output_type": "execute_result"
    }
   ],
   "source": [
    "data.head(2)"
   ]
  },
  {
   "cell_type": "code",
   "execution_count": 13,
   "id": "b1babd00-e485-45b7-8ab5-6032765284fd",
   "metadata": {},
   "outputs": [
    {
     "data": {
      "text/html": [
       "<div style=\"display:flex;flex-direction:row;justify-content:space-between;\">\n",
       "                <pre style=\"width: 100%; white-space: pre-wrap;\" id=\"cac37bec-b403-4203-9563-a94c48a50418\">import seaborn as sns\n",
       "sns.countplot(x='surgery', data=data)\n",
       "</pre>\n",
       "                <button style=\"height: fit-content;\" onclick=\"navigator.clipboard.writeText(JSON.parse(atob(`ImltcG9ydCBzZWFib3JuIGFzIHNuc1xuc25zLmNvdW50cGxvdCh4PSdzdXJnZXJ5JywgZGF0YT1kYXRhKVxuIg==`)))\">Copy</button>\n",
       "                </div>"
      ],
      "text/plain": [
       "<IPython.core.display.HTML object>"
      ]
     },
     "metadata": {},
     "output_type": "display_data"
    }
   ],
   "source": [
    "data.sketch.howto(\"use seaborn count plot to see how many entries for each surgery\")"
   ]
  },
  {
   "cell_type": "code",
   "execution_count": 18,
   "id": "58e25c9f-5d02-4de2-b9de-e045e0aadb95",
   "metadata": {},
   "outputs": [
    {
     "data": {
      "text/plain": [
       "<Axes: xlabel='count', ylabel='surgery'>"
      ]
     },
     "execution_count": 18,
     "metadata": {},
     "output_type": "execute_result"
    },
    {
     "data": {
      "image/png": "[encoded data removed]",
      "text/plain": [
       "<Figure size 640x480 with 1 Axes>"
      ]
     },
     "metadata": {},
     "output_type": "display_data"
    }
   ],
   "source": [
    "import seaborn as sns\n",
    "sns.countplot(y='surgery', data=data)\n",
    "\n"
   ]
  },
  {
   "cell_type": "code",
   "execution_count": null,
   "id": "e33cf96e-0cfa-4c3c-b776-7ba02f45ff81",
   "metadata": {},
   "outputs": [],
   "source": []
  }
 ],
 "metadata": {
  "kernelspec": {
   "display_name": "Python 3 (ipykernel)",
   "language": "python",
   "name": "python3"
  },
  "language_info": {
   "codemirror_mode": {
    "name": "ipython",
    "version": 3
   },
   "file_extension": ".py",
   "mimetype": "text/x-python",
   "name": "python",
   "nbconvert_exporter": "python",
   "pygments_lexer": "ipython3",
   "version": "3.10.6"
  }
 },
 "nbformat": 4,
 "nbformat_minor": 5
}
