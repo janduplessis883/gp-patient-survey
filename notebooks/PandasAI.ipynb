{
 "cells": [
  {
   "cell_type": "code",
   "execution_count": 2,
   "id": "9fba64a4-8408-4876-9b5f-047e1d185efd",
   "metadata": {},
   "outputs": [
    {
     "name": "stderr",
     "output_type": "stream",
     "text": [
      "No model was supplied, defaulted to openai-community/gpt2 and revision 6c0e608 (https://huggingface.co/openai-community/gpt2).\n",
      "Using a pipeline without specifying a model name and revision in production is not recommended.\n",
      "Truncation was not explicitly activated but `max_length` is provided a specific value, please use `truncation=True` to explicitly truncate examples to max length. Defaulting to 'longest_first' truncation strategy. If you encode pairs of sequences (GLUE-style) with the tokenizer you can select this strategy more precisely by providing a specific strategy to `truncation`.\n",
      "Setting `pad_token_id` to `eos_token_id`:50256 for open-end generation.\n"
     ]
    },
    {
     "name": "stdout",
     "output_type": "stream",
     "text": [
      "write a poem about sunshine and what kind of sunflowers. He was an amazing performer and I enjoyed our time working with him on two of his songs - 'Love Song\" and 'The Heart Of A Girl'.\n",
      "\n",
      "I just wanted to write something that wasn't going to be like 'I know that I've been here, and I still don't know what that means', but that wasn't what 'The Heart Of A Girl' was all about. What 'The Heart Of A Girl' was about was just a dream come true of mine.\n",
      "\n",
      "Is there anything that might have been more important and beautiful?\n",
      "\n",
      "No. Yes, I'm an amazing human being. I'm a beautiful, beautiful person. I'm a very unique person, just like everyone else.\n",
      "\n",
      "Is there anything that will be more important and beautiful?\n",
      "\n",
      "Absolutely! I just write this story that's really moving. People really love this song and its songs, you know, because it's so unique, it's so beautiful and I love it very much.\n",
      "\n",
      "How can you play music without changing your name or being a celebrity?\n",
      "\n",
      "I can't do it, I'm doing it out of love and hope. I have a real life, two-person show, and we don't have to be very close. But if I could play this song, I would.\n",
      "\n",
      "Who are your favorite musicians of the last decade?\n",
      "\n",
      "\n",
      "I remember back when I was still in university that there was actually a guy named Eric Bea. I was listening to him on the radio, and it was really cool, but I couldn't quite put myself into the band because there was one of the biggest records on the planet and it didn't have money - it could barely keep growing. So you could only call it a single label, with no backing musicians. So what do you do, do you get the backing from anybody? When I was younger I was always at home singing songs, but now I'm at home performing. Even I never did anything that was as good as that. Then I heard about music, and the world started to turn around, I love it and I'm glad people like it.\n",
      "\n",
      "What do you think of the past decade as a band growing up in music, like the 'Black Eyed Peas' band, or do you think it's been just good luck with it or is there a new time in music\n"
     ]
    }
   ],
   "source": [
    "from transformers import pipeline\n",
    "\n",
    "# Create a text generation pipeline\n",
    "generator = pipeline('text-generation')\n",
    "\n",
    "# Generate text based on a prompt\n",
    "generated_text = generator(\"write a poem about sunshine\", max_length=500, num_return_sequences=10)\n",
    "\n",
    "# Print the generated text\n",
    "print(generated_text[0]['generated_text'])\n"
   ]
  },
  {
   "cell_type": "code",
   "execution_count": null,
   "id": "2f1c7304-c9d7-4e3d-8920-564ca57d2cf7",
   "metadata": {},
   "outputs": [],
   "source": []
  },
  {
   "cell_type": "code",
   "execution_count": null,
   "id": "88b730b2-4c8d-4e0b-9cca-029a2ecf1ec0",
   "metadata": {},
   "outputs": [],
   "source": []
  },
  {
   "cell_type": "code",
   "execution_count": null,
   "id": "b6cb1c04-90b6-4b0a-9b1e-69866d9bf3cb",
   "metadata": {},
   "outputs": [],
   "source": []
  },
  {
   "cell_type": "code",
   "execution_count": null,
   "id": "4fe44534-65e4-4c76-ae71-7de4b89b6d55",
   "metadata": {},
   "outputs": [],
   "source": []
  },
  {
   "cell_type": "code",
   "execution_count": null,
   "id": "bdda92f4-9768-4c03-84c0-27346dae4697",
   "metadata": {},
   "outputs": [],
   "source": []
  },
  {
   "cell_type": "code",
   "execution_count": null,
   "id": "c5c2451e-f453-4c90-8bc4-cd024ba99bb5",
   "metadata": {},
   "outputs": [],
   "source": []
  },
  {
   "cell_type": "code",
   "execution_count": null,
   "id": "4d7e66f7-0815-4296-a641-5fd84585e418",
   "metadata": {},
   "outputs": [],
   "source": []
  },
  {
   "cell_type": "code",
   "execution_count": null,
   "id": "81d25fec-89ab-4f0f-ba69-ef48898ae4a1",
   "metadata": {},
   "outputs": [],
   "source": []
  },
  {
   "cell_type": "code",
   "execution_count": null,
   "id": "58b3f47e-02d6-41fe-8214-81ea1b2de60e",
   "metadata": {},
   "outputs": [],
   "source": []
  },
  {
   "cell_type": "code",
   "execution_count": null,
   "id": "54e35393-3494-4575-8a52-33f2bb9d8aba",
   "metadata": {},
   "outputs": [],
   "source": []
  },
  {
   "cell_type": "code",
   "execution_count": null,
   "id": "a1f079e5-dc36-46b7-b320-1b9db0a35975",
   "metadata": {},
   "outputs": [],
   "source": []
  }
 ],
 "metadata": {
  "kernelspec": {
   "display_name": "Python 3 (ipykernel)",
   "language": "python",
   "name": "python3"
  },
  "language_info": {
   "codemirror_mode": {
    "name": "ipython",
    "version": 3
   },
   "file_extension": ".py",
   "mimetype": "text/x-python",
   "name": "python",
   "nbconvert_exporter": "python",
   "pygments_lexer": "ipython3",
   "version": "3.10.6"
  }
 },
 "nbformat": 4,
 "nbformat_minor": 5
}
